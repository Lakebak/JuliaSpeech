{
 "cells": [
  {
   "cell_type": "code",
   "execution_count": 1,
   "metadata": {},
   "outputs": [],
   "source": [
    "using WAV"
   ]
  },
  {
   "cell_type": "code",
   "execution_count": 2,
   "metadata": {},
   "outputs": [
    {
     "data": {
      "text/plain": [
       "([0.0004882961516159551; 0.017090365306558428; … ; 0.01815851313821833; 0.018555253761406293;;], 16000.0f0, 0x0010, WAVChunk[WAVChunk(Symbol(\"fmt \"), UInt8[0x10, 0x00, 0x00, 0x00, 0x01, 0x00, 0x01, 0x00, 0x80, 0x3e, 0x00, 0x00, 0x00, 0x7d, 0x00, 0x00, 0x02, 0x00, 0x10, 0x00])])"
      ]
     },
     "execution_count": 2,
     "metadata": {},
     "output_type": "execute_result"
    }
   ],
   "source": [
    "audio, fs = wavread(\"/mnt/c/Users/nicor/OneDrive/Desktop/AMI/amicorpus/IB4003/audio/IB4003.Mix-Headset.wav\")"
   ]
  },
  {
   "cell_type": "code",
   "execution_count": 3,
   "metadata": {},
   "outputs": [
    {
     "data": {
      "text/plain": [
       "16000.0f0"
      ]
     },
     "execution_count": 3,
     "metadata": {},
     "output_type": "execute_result"
    }
   ],
   "source": [
    "fs"
   ]
  },
  {
   "cell_type": "code",
   "execution_count": 6,
   "metadata": {},
   "outputs": [
    {
     "data": {
      "text/plain": [
       "([0.0004882961516159551; 0.017090365306558428; … ; 0.01815851313821833; 0.018555253761406293;;], 16000.0f0, 0x0010, WAVChunk[WAVChunk(Symbol(\"fmt \"), UInt8[0x10, 0x00, 0x00, 0x00, 0x01, 0x00, 0x01, 0x00, 0x80, 0x3e, 0x00, 0x00, 0x00, 0x7d, 0x00, 0x00, 0x02, 0x00, 0x10, 0x00])])"
      ]
     },
     "execution_count": 6,
     "metadata": {},
     "output_type": "execute_result"
    }
   ],
   "source": [
    "using FileIO: load\n",
    "\n",
    "audio = load(\"/mnt/c/Users/nicor/OneDrive/Desktop/AMI/amicorpus/IB4003/audio/IB4003.Mix-Headset.wav\")"
   ]
  },
  {
   "cell_type": "code",
   "execution_count": 1,
   "metadata": {},
   "outputs": [
    {
     "data": {
      "text/plain": [
       "read_audio (generic function with 3 methods)"
      ]
     },
     "execution_count": 1,
     "metadata": {},
     "output_type": "execute_result"
    }
   ],
   "source": [
    "include(\"../BasicAudioIO.jl\")"
   ]
  },
  {
   "cell_type": "code",
   "execution_count": 2,
   "metadata": {},
   "outputs": [
    {
     "data": {
      "text/plain": [
       "([0.0004882961516159551; 0.017090365306558428; … ; 0.01815851313821833; 0.018555253761406293;;], 16000.0f0)"
      ]
     },
     "execution_count": 2,
     "metadata": {},
     "output_type": "execute_result"
    }
   ],
   "source": [
    "audio = read_audio(\"/mnt/c/Users/nicor/OneDrive/Desktop/AMI/amicorpus/IB4003/audio/IB4003.Mix-Headset.wav\")"
   ]
  },
  {
   "cell_type": "code",
   "execution_count": 9,
   "metadata": {},
   "outputs": [
    {
     "data": {
      "text/plain": [
       "50-element Vector{Float64}:\n",
       "  0.0004882961516159551\n",
       "  0.017090365306558428\n",
       "  0.020935697500534076\n",
       "  0.014618366039002656\n",
       "  0.009582811975463118\n",
       "  0.00827051606799524\n",
       "  0.006164738914151433\n",
       "  0.0027466658528397473\n",
       "  0.0017090365306558428\n",
       "  0.002380443739127781\n",
       "  0.0007324442274239326\n",
       " -0.0017700735496078372\n",
       " -0.00347911008026368\n",
       "  ⋮\n",
       " -0.05752739036225471\n",
       " -0.059205908383434556\n",
       " -0.057802056947538684\n",
       " -0.05752739036225471\n",
       " -0.0587481307412946\n",
       " -0.05746635334330271\n",
       " -0.05642872402111881\n",
       " -0.05468916898098697\n",
       " -0.05264442884609516\n",
       " -0.04867702261421552\n",
       " -0.04535050508133183\n",
       " -0.0445875423444319"
      ]
     },
     "execution_count": 9,
     "metadata": {},
     "output_type": "execute_result"
    }
   ],
   "source": [
    "frame = audio[1][1:50]"
   ]
  },
  {
   "cell_type": "code",
   "execution_count": 4,
   "metadata": {},
   "outputs": [
    {
     "data": {
      "text/plain": [
       "energy (generic function with 1 method)"
      ]
     },
     "execution_count": 4,
     "metadata": {},
     "output_type": "execute_result"
    }
   ],
   "source": [
    "include(\"../LowLevelFeatures.jl\")"
   ]
  },
  {
   "cell_type": "code",
   "execution_count": 5,
   "metadata": {},
   "outputs": [
    {
     "data": {
      "text/plain": [
       "0.5"
      ]
     },
     "execution_count": 5,
     "metadata": {},
     "output_type": "execute_result"
    }
   ],
   "source": [
    "count = size(frame, 1)\n",
    "broadcast!(sign, frame, frame)\n",
    "broadcast!(abs, frame, frame)\n",
    "count_zero = sum(abs, frame) / 2\n",
    "zr = count_zero / count"
   ]
  },
  {
   "cell_type": "code",
   "execution_count": 6,
   "metadata": {},
   "outputs": [
    {
     "data": {
      "text/plain": [
       "0.5"
      ]
     },
     "execution_count": 6,
     "metadata": {},
     "output_type": "execute_result"
    }
   ],
   "source": [
    "zr = zero_crossing_rate(frame)"
   ]
  },
  {
   "cell_type": "code",
   "execution_count": 15,
   "metadata": {},
   "outputs": [
    {
     "data": {
      "text/plain": [
       "0.0015362901806617057"
      ]
     },
     "execution_count": 15,
     "metadata": {},
     "output_type": "execute_result"
    }
   ],
   "source": [
    "pow = frame.^2\n",
    "en = sum(pow) / size(frame, 1)"
   ]
  },
  {
   "cell_type": "code",
   "execution_count": 18,
   "metadata": {},
   "outputs": [
    {
     "ename": "LoadError",
     "evalue": "MethodError: objects of type Vector{Float64} are not callable\nUse square brackets [] for indexing an Array.",
     "output_type": "error",
     "traceback": [
      "MethodError: objects of type Vector{Float64} are not callable\nUse square brackets [] for indexing an Array.",
      "",
      "Stacktrace:",
      " [1] mapreduce_first(f::Vector{Float64}, op::Function, x::Int64)",
      "   @ Base ./reduce.jl:394",
      " [2] mapreduce(f::Vector{Float64}, op::Function, a::Int64)",
      "   @ Base ./reduce.jl:421",
      " [3] sum(f::Vector{Float64}, a::Int64; kw::Base.Pairs{Symbol, Union{}, Tuple{}, NamedTuple{(), Tuple{}}})",
      "   @ Base ./reduce.jl:503",
      " [4] sum(f::Vector{Float64}, a::Int64)",
      "   @ Base ./reduce.jl:503",
      " [5] energy(frame::Vector{Float64})",
      "   @ Main /mnt/c/Users/nicor/Documents/GitHub/JuliaSpeech/LowLevelFeatures.jl:12",
      " [6] top-level scope",
      "   @ In[18]:1",
      " [7] eval",
      "   @ ./boot.jl:373 [inlined]",
      " [8] include_string(mapexpr::typeof(REPL.softscope), mod::Module, code::String, filename::String)",
      "   @ Base ./loading.jl:1196"
     ]
    }
   ],
   "source": [
    "en = energy(frame)"
   ]
  },
  {
   "cell_type": "code",
   "execution_count": null,
   "metadata": {},
   "outputs": [],
   "source": []
  }
 ],
 "metadata": {
  "kernelspec": {
   "display_name": "Julia 1.7.2",
   "language": "julia",
   "name": "julia-1.7"
  },
  "language_info": {
   "file_extension": ".jl",
   "mimetype": "application/julia",
   "name": "julia",
   "version": "1.7.2"
  },
  "orig_nbformat": 4
 },
 "nbformat": 4,
 "nbformat_minor": 2
}
