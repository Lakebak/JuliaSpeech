{
 "cells": [
  {
   "cell_type": "code",
   "execution_count": 1,
   "metadata": {},
   "outputs": [],
   "source": [
    "using WAV"
   ]
  },
  {
   "cell_type": "code",
   "execution_count": 2,
   "metadata": {},
   "outputs": [
    {
     "data": {
      "text/plain": [
       "([0.0004882961516159551; 0.017090365306558428; … ; 0.01815851313821833; 0.018555253761406293;;], 16000.0f0, 0x0010, WAVChunk[WAVChunk(Symbol(\"fmt \"), UInt8[0x10, 0x00, 0x00, 0x00, 0x01, 0x00, 0x01, 0x00, 0x80, 0x3e, 0x00, 0x00, 0x00, 0x7d, 0x00, 0x00, 0x02, 0x00, 0x10, 0x00])])"
      ]
     },
     "execution_count": 2,
     "metadata": {},
     "output_type": "execute_result"
    }
   ],
   "source": [
    "audio, fs = wavread(\"/mnt/c/Users/nicor/OneDrive/Desktop/AMI/amicorpus/IB4003/audio/IB4003.Mix-Headset.wav\")"
   ]
  },
  {
   "cell_type": "code",
   "execution_count": 4,
   "metadata": {},
   "outputs": [
    {
     "data": {
      "text/plain": [
       "16000.0f0"
      ]
     },
     "execution_count": 4,
     "metadata": {},
     "output_type": "execute_result"
    }
   ],
   "source": [
    "fs"
   ]
  },
  {
   "cell_type": "code",
   "execution_count": 6,
   "metadata": {},
   "outputs": [
    {
     "data": {
      "text/plain": [
       "([0.0004882961516159551; 0.017090365306558428; … ; 0.01815851313821833; 0.018555253761406293;;], 16000.0f0, 0x0010, WAVChunk[WAVChunk(Symbol(\"fmt \"), UInt8[0x10, 0x00, 0x00, 0x00, 0x01, 0x00, 0x01, 0x00, 0x80, 0x3e, 0x00, 0x00, 0x00, 0x7d, 0x00, 0x00, 0x02, 0x00, 0x10, 0x00])])"
      ]
     },
     "execution_count": 6,
     "metadata": {},
     "output_type": "execute_result"
    }
   ],
   "source": [
    "using FileIO: load\n",
    "\n",
    "audio = load(\"/mnt/c/Users/nicor/OneDrive/Desktop/AMI/amicorpus/IB4003/audio/IB4003.Mix-Headset.wav\")"
   ]
  },
  {
   "cell_type": "code",
   "execution_count": 13,
   "metadata": {},
   "outputs": [
    {
     "data": {
      "text/plain": [
       "read_audio (generic function with 3 methods)"
      ]
     },
     "execution_count": 13,
     "metadata": {},
     "output_type": "execute_result"
    }
   ],
   "source": [
    "include(\"../BasicAudioIO.jl\")"
   ]
  },
  {
   "cell_type": "code",
   "execution_count": 16,
   "metadata": {},
   "outputs": [
    {
     "data": {
      "text/plain": [
       "([0.0004882961516159551; 0.017090365306558428; … ; 0.01815851313821833; 0.018555253761406293;;], 16000.0f0)"
      ]
     },
     "execution_count": 16,
     "metadata": {},
     "output_type": "execute_result"
    }
   ],
   "source": [
    "audio = read_audio(\"/mnt/c/Users/nicor/OneDrive/Desktop/AMI/amicorpus/IB4003/audio/IB4003.Mix-Headset.wav\")"
   ]
  },
  {
   "cell_type": "code",
   "execution_count": 19,
   "metadata": {},
   "outputs": [
    {
     "data": {
      "text/plain": [
       "32372054×1 Matrix{Float64}:\n",
       "  0.0004882961516159551\n",
       "  0.017090365306558428\n",
       "  0.020935697500534076\n",
       "  0.014618366039002656\n",
       "  0.009582811975463118\n",
       "  0.00827051606799524\n",
       "  0.006164738914151433\n",
       "  0.0027466658528397473\n",
       "  0.0017090365306558428\n",
       "  0.002380443739127781\n",
       "  0.0007324442274239326\n",
       " -0.0017700735496078372\n",
       " -0.00347911008026368\n",
       "  ⋮\n",
       "  0.013855403302102725\n",
       "  0.013794366283150731\n",
       "  0.012359996337778864\n",
       "  0.012604144413586841\n",
       "  0.014831995605334635\n",
       "  0.016052735984374525\n",
       "  0.015930661946470536\n",
       "  0.01586962492751854\n",
       "  0.01684621723075045\n",
       "  0.017212439344462416\n",
       "  0.01815851313821833\n",
       "  0.018555253761406293"
      ]
     },
     "execution_count": 19,
     "metadata": {},
     "output_type": "execute_result"
    }
   ],
   "source": [
    "audio[1]"
   ]
  },
  {
   "cell_type": "code",
   "execution_count": null,
   "metadata": {},
   "outputs": [],
   "source": []
  }
 ],
 "metadata": {
  "kernelspec": {
   "display_name": "Julia 1.7.2",
   "language": "julia",
   "name": "julia-1.7"
  },
  "language_info": {
   "file_extension": ".jl",
   "mimetype": "application/julia",
   "name": "julia",
   "version": "1.7.2"
  },
  "orig_nbformat": 4
 },
 "nbformat": 4,
 "nbformat_minor": 2
}
